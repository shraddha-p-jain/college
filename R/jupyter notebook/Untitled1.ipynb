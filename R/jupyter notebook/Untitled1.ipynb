{
 "cells": [
  {
   "cell_type": "code",
   "execution_count": 7,
   "metadata": {},
   "outputs": [
    {
     "ename": "ERROR",
     "evalue": "Error in file.choose(): file choice cancelled\n",
     "output_type": "error",
     "traceback": [
      "Error in file.choose(): file choice cancelled\nTraceback:\n",
      "1. read.csv(file.choose())",
      "2. read.table(file = file, header = header, sep = sep, quote = quote, \n .     dec = dec, fill = fill, comment.char = comment.char, ...)",
      "3. file.choose()"
     ]
    }
   ],
   "source": [
    "bank<-read.csv(file.choose())"
   ]
  },
  {
   "cell_type": "code",
   "execution_count": 6,
   "metadata": {},
   "outputs": [
    {
     "data": {
      "text/html": [
       "<table>\n",
       "<thead><tr><th scope=col>ID</th><th scope=col>Age</th><th scope=col>Professional.Exp</th><th scope=col>Income</th><th scope=col>Education</th><th scope=col>Credit.Card</th></tr></thead>\n",
       "<tbody>\n",
       "\t<tr><td> 1  </td><td>25  </td><td>NA  </td><td> 49 </td><td>UG  </td><td>No  </td></tr>\n",
       "\t<tr><td> 2  </td><td>45  </td><td>19  </td><td> 34 </td><td>UG  </td><td>No  </td></tr>\n",
       "\t<tr><td> 3  </td><td>39  </td><td>15  </td><td> 11 </td><td>UG  </td><td>No  </td></tr>\n",
       "\t<tr><td> 4  </td><td>35  </td><td> 9  </td><td>100 </td><td>Grad</td><td>No  </td></tr>\n",
       "\t<tr><td> 5  </td><td>35  </td><td> 8  </td><td> 45 </td><td>Grad</td><td>Yes </td></tr>\n",
       "\t<tr><td> 6  </td><td>37  </td><td>13  </td><td> 29 </td><td>Grad</td><td>No  </td></tr>\n",
       "\t<tr><td> 7  </td><td>53  </td><td>27  </td><td> NA </td><td>Grad</td><td>No  </td></tr>\n",
       "\t<tr><td> 8  </td><td>NA  </td><td>24  </td><td> 22 </td><td>Prof</td><td>Yes </td></tr>\n",
       "\t<tr><td> 9  </td><td>35  </td><td>10  </td><td> 81 </td><td>Grad</td><td>No  </td></tr>\n",
       "\t<tr><td>10  </td><td>34  </td><td> 9  </td><td>180 </td><td>Prof</td><td>No  </td></tr>\n",
       "\t<tr><td>11  </td><td>65  </td><td>39  </td><td>105 </td><td>Prof</td><td>No  </td></tr>\n",
       "\t<tr><td>12  </td><td>29  </td><td> 5  </td><td> 45 </td><td>Grad</td><td>No  </td></tr>\n",
       "\t<tr><td>13  </td><td>48  </td><td>23  </td><td>114 </td><td>Prof</td><td>No  </td></tr>\n",
       "\t<tr><td>14  </td><td>59  </td><td>32  </td><td> 40 </td><td>Grad</td><td>No  </td></tr>\n",
       "\t<tr><td>15  </td><td>67  </td><td>41  </td><td>112 </td><td>UG  </td><td>No  </td></tr>\n",
       "\t<tr><td>16  </td><td>60  </td><td>30  </td><td> 22 </td><td>Prof</td><td>Yes </td></tr>\n",
       "\t<tr><td>17  </td><td>38  </td><td>14  </td><td>130 </td><td>Prof</td><td>No  </td></tr>\n",
       "\t<tr><td>18  </td><td>42  </td><td>18  </td><td> 81 </td><td>UG  </td><td>No  </td></tr>\n",
       "\t<tr><td>19  </td><td>46  </td><td>21  </td><td>193 </td><td>Prof</td><td>No  </td></tr>\n",
       "\t<tr><td>20  </td><td>55  </td><td>28  </td><td> 21 </td><td>Grad</td><td>Yes </td></tr>\n",
       "</tbody>\n",
       "</table>\n"
      ],
      "text/latex": [
       "\\begin{tabular}{r|llllll}\n",
       " ID & Age & Professional.Exp & Income & Education & Credit.Card\\\\\n",
       "\\hline\n",
       "\t  1   & 25   & NA   &  49  & UG   & No  \\\\\n",
       "\t  2   & 45   & 19   &  34  & UG   & No  \\\\\n",
       "\t  3   & 39   & 15   &  11  & UG   & No  \\\\\n",
       "\t  4   & 35   &  9   & 100  & Grad & No  \\\\\n",
       "\t  5   & 35   &  8   &  45  & Grad & Yes \\\\\n",
       "\t  6   & 37   & 13   &  29  & Grad & No  \\\\\n",
       "\t  7   & 53   & 27   &  NA  & Grad & No  \\\\\n",
       "\t  8   & NA   & 24   &  22  & Prof & Yes \\\\\n",
       "\t  9   & 35   & 10   &  81  & Grad & No  \\\\\n",
       "\t 10   & 34   &  9   & 180  & Prof & No  \\\\\n",
       "\t 11   & 65   & 39   & 105  & Prof & No  \\\\\n",
       "\t 12   & 29   &  5   &  45  & Grad & No  \\\\\n",
       "\t 13   & 48   & 23   & 114  & Prof & No  \\\\\n",
       "\t 14   & 59   & 32   &  40  & Grad & No  \\\\\n",
       "\t 15   & 67   & 41   & 112  & UG   & No  \\\\\n",
       "\t 16   & 60   & 30   &  22  & Prof & Yes \\\\\n",
       "\t 17   & 38   & 14   & 130  & Prof & No  \\\\\n",
       "\t 18   & 42   & 18   &  81  & UG   & No  \\\\\n",
       "\t 19   & 46   & 21   & 193  & Prof & No  \\\\\n",
       "\t 20   & 55   & 28   &  21  & Grad & Yes \\\\\n",
       "\\end{tabular}\n"
      ],
      "text/markdown": [
       "\n",
       "| ID | Age | Professional.Exp | Income | Education | Credit.Card |\n",
       "|---|---|---|---|---|---|\n",
       "|  1   | 25   | NA   |  49  | UG   | No   |\n",
       "|  2   | 45   | 19   |  34  | UG   | No   |\n",
       "|  3   | 39   | 15   |  11  | UG   | No   |\n",
       "|  4   | 35   |  9   | 100  | Grad | No   |\n",
       "|  5   | 35   |  8   |  45  | Grad | Yes  |\n",
       "|  6   | 37   | 13   |  29  | Grad | No   |\n",
       "|  7   | 53   | 27   |  NA  | Grad | No   |\n",
       "|  8   | NA   | 24   |  22  | Prof | Yes  |\n",
       "|  9   | 35   | 10   |  81  | Grad | No   |\n",
       "| 10   | 34   |  9   | 180  | Prof | No   |\n",
       "| 11   | 65   | 39   | 105  | Prof | No   |\n",
       "| 12   | 29   |  5   |  45  | Grad | No   |\n",
       "| 13   | 48   | 23   | 114  | Prof | No   |\n",
       "| 14   | 59   | 32   |  40  | Grad | No   |\n",
       "| 15   | 67   | 41   | 112  | UG   | No   |\n",
       "| 16   | 60   | 30   |  22  | Prof | Yes  |\n",
       "| 17   | 38   | 14   | 130  | Prof | No   |\n",
       "| 18   | 42   | 18   |  81  | UG   | No   |\n",
       "| 19   | 46   | 21   | 193  | Prof | No   |\n",
       "| 20   | 55   | 28   |  21  | Grad | Yes  |\n",
       "\n"
      ],
      "text/plain": [
       "   ID Age Professional.Exp Income Education Credit.Card\n",
       "1   1 25  NA                49    UG        No         \n",
       "2   2 45  19                34    UG        No         \n",
       "3   3 39  15                11    UG        No         \n",
       "4   4 35   9               100    Grad      No         \n",
       "5   5 35   8                45    Grad      Yes        \n",
       "6   6 37  13                29    Grad      No         \n",
       "7   7 53  27                NA    Grad      No         \n",
       "8   8 NA  24                22    Prof      Yes        \n",
       "9   9 35  10                81    Grad      No         \n",
       "10 10 34   9               180    Prof      No         \n",
       "11 11 65  39               105    Prof      No         \n",
       "12 12 29   5                45    Grad      No         \n",
       "13 13 48  23               114    Prof      No         \n",
       "14 14 59  32                40    Grad      No         \n",
       "15 15 67  41               112    UG        No         \n",
       "16 16 60  30                22    Prof      Yes        \n",
       "17 17 38  14               130    Prof      No         \n",
       "18 18 42  18                81    UG        No         \n",
       "19 19 46  21               193    Prof      No         \n",
       "20 20 55  28                21    Grad      Yes        "
      ]
     },
     "metadata": {},
     "output_type": "display_data"
    }
   ],
   "source": [
    "bank"
   ]
  },
  {
   "cell_type": "code",
   "execution_count": 4,
   "metadata": {},
   "outputs": [
    {
     "data": {
      "text/html": [
       "<table>\n",
       "<thead><tr><th scope=col>ID</th><th scope=col>Age</th><th scope=col>Professional.Exp</th><th scope=col>Income</th><th scope=col>Education</th><th scope=col>Credit.Card</th></tr></thead>\n",
       "<tbody>\n",
       "\t<tr><td>1   </td><td>25  </td><td>NA  </td><td> 49 </td><td>UG  </td><td>No  </td></tr>\n",
       "\t<tr><td>2   </td><td>45  </td><td>19  </td><td> 34 </td><td>UG  </td><td>No  </td></tr>\n",
       "\t<tr><td>3   </td><td>39  </td><td>15  </td><td> 11 </td><td>UG  </td><td>No  </td></tr>\n",
       "\t<tr><td>4   </td><td>35  </td><td> 9  </td><td>100 </td><td>Grad</td><td>No  </td></tr>\n",
       "\t<tr><td>5   </td><td>35  </td><td> 8  </td><td> 45 </td><td>Grad</td><td>Yes </td></tr>\n",
       "\t<tr><td>6   </td><td>37  </td><td>13  </td><td> 29 </td><td>Grad</td><td>No  </td></tr>\n",
       "</tbody>\n",
       "</table>\n"
      ],
      "text/latex": [
       "\\begin{tabular}{r|llllll}\n",
       " ID & Age & Professional.Exp & Income & Education & Credit.Card\\\\\n",
       "\\hline\n",
       "\t 1    & 25   & NA   &  49  & UG   & No  \\\\\n",
       "\t 2    & 45   & 19   &  34  & UG   & No  \\\\\n",
       "\t 3    & 39   & 15   &  11  & UG   & No  \\\\\n",
       "\t 4    & 35   &  9   & 100  & Grad & No  \\\\\n",
       "\t 5    & 35   &  8   &  45  & Grad & Yes \\\\\n",
       "\t 6    & 37   & 13   &  29  & Grad & No  \\\\\n",
       "\\end{tabular}\n"
      ],
      "text/markdown": [
       "\n",
       "| ID | Age | Professional.Exp | Income | Education | Credit.Card |\n",
       "|---|---|---|---|---|---|\n",
       "| 1    | 25   | NA   |  49  | UG   | No   |\n",
       "| 2    | 45   | 19   |  34  | UG   | No   |\n",
       "| 3    | 39   | 15   |  11  | UG   | No   |\n",
       "| 4    | 35   |  9   | 100  | Grad | No   |\n",
       "| 5    | 35   |  8   |  45  | Grad | Yes  |\n",
       "| 6    | 37   | 13   |  29  | Grad | No   |\n",
       "\n"
      ],
      "text/plain": [
       "  ID Age Professional.Exp Income Education Credit.Card\n",
       "1 1  25  NA                49    UG        No         \n",
       "2 2  45  19                34    UG        No         \n",
       "3 3  39  15                11    UG        No         \n",
       "4 4  35   9               100    Grad      No         \n",
       "5 5  35   8                45    Grad      Yes        \n",
       "6 6  37  13                29    Grad      No         "
      ]
     },
     "metadata": {},
     "output_type": "display_data"
    }
   ],
   "source": [
    "head(bank)"
   ]
  },
  {
   "cell_type": "code",
   "execution_count": null,
   "metadata": {},
   "outputs": [],
   "source": [
    "View()"
   ]
  },
  {
   "cell_type": "code",
   "execution_count": 8,
   "metadata": {},
   "outputs": [
    {
     "data": {
      "text/html": [
       "<table>\n",
       "<thead><tr><th scope=col>ID</th><th scope=col>Age</th><th scope=col>Professional.Exp</th><th scope=col>Income</th><th scope=col>Education</th><th scope=col>Credit.Card</th></tr></thead>\n",
       "<tbody>\n",
       "\t<tr><td>FALSE</td><td>FALSE</td><td> TRUE</td><td>FALSE</td><td>FALSE</td><td>FALSE</td></tr>\n",
       "\t<tr><td>FALSE</td><td>FALSE</td><td>FALSE</td><td>FALSE</td><td>FALSE</td><td>FALSE</td></tr>\n",
       "\t<tr><td>FALSE</td><td>FALSE</td><td>FALSE</td><td>FALSE</td><td>FALSE</td><td>FALSE</td></tr>\n",
       "\t<tr><td>FALSE</td><td>FALSE</td><td>FALSE</td><td>FALSE</td><td>FALSE</td><td>FALSE</td></tr>\n",
       "\t<tr><td>FALSE</td><td>FALSE</td><td>FALSE</td><td>FALSE</td><td>FALSE</td><td>FALSE</td></tr>\n",
       "\t<tr><td>FALSE</td><td>FALSE</td><td>FALSE</td><td>FALSE</td><td>FALSE</td><td>FALSE</td></tr>\n",
       "\t<tr><td>FALSE</td><td>FALSE</td><td>FALSE</td><td> TRUE</td><td>FALSE</td><td>FALSE</td></tr>\n",
       "\t<tr><td>FALSE</td><td> TRUE</td><td>FALSE</td><td>FALSE</td><td>FALSE</td><td>FALSE</td></tr>\n",
       "\t<tr><td>FALSE</td><td>FALSE</td><td>FALSE</td><td>FALSE</td><td>FALSE</td><td>FALSE</td></tr>\n",
       "\t<tr><td>FALSE</td><td>FALSE</td><td>FALSE</td><td>FALSE</td><td>FALSE</td><td>FALSE</td></tr>\n",
       "\t<tr><td>FALSE</td><td>FALSE</td><td>FALSE</td><td>FALSE</td><td>FALSE</td><td>FALSE</td></tr>\n",
       "\t<tr><td>FALSE</td><td>FALSE</td><td>FALSE</td><td>FALSE</td><td>FALSE</td><td>FALSE</td></tr>\n",
       "\t<tr><td>FALSE</td><td>FALSE</td><td>FALSE</td><td>FALSE</td><td>FALSE</td><td>FALSE</td></tr>\n",
       "\t<tr><td>FALSE</td><td>FALSE</td><td>FALSE</td><td>FALSE</td><td>FALSE</td><td>FALSE</td></tr>\n",
       "\t<tr><td>FALSE</td><td>FALSE</td><td>FALSE</td><td>FALSE</td><td>FALSE</td><td>FALSE</td></tr>\n",
       "\t<tr><td>FALSE</td><td>FALSE</td><td>FALSE</td><td>FALSE</td><td>FALSE</td><td>FALSE</td></tr>\n",
       "\t<tr><td>FALSE</td><td>FALSE</td><td>FALSE</td><td>FALSE</td><td>FALSE</td><td>FALSE</td></tr>\n",
       "\t<tr><td>FALSE</td><td>FALSE</td><td>FALSE</td><td>FALSE</td><td>FALSE</td><td>FALSE</td></tr>\n",
       "\t<tr><td>FALSE</td><td>FALSE</td><td>FALSE</td><td>FALSE</td><td>FALSE</td><td>FALSE</td></tr>\n",
       "\t<tr><td>FALSE</td><td>FALSE</td><td>FALSE</td><td>FALSE</td><td>FALSE</td><td>FALSE</td></tr>\n",
       "</tbody>\n",
       "</table>\n"
      ],
      "text/latex": [
       "\\begin{tabular}{llllll}\n",
       " ID & Age & Professional.Exp & Income & Education & Credit.Card\\\\\n",
       "\\hline\n",
       "\t FALSE & FALSE &  TRUE & FALSE & FALSE & FALSE\\\\\n",
       "\t FALSE & FALSE & FALSE & FALSE & FALSE & FALSE\\\\\n",
       "\t FALSE & FALSE & FALSE & FALSE & FALSE & FALSE\\\\\n",
       "\t FALSE & FALSE & FALSE & FALSE & FALSE & FALSE\\\\\n",
       "\t FALSE & FALSE & FALSE & FALSE & FALSE & FALSE\\\\\n",
       "\t FALSE & FALSE & FALSE & FALSE & FALSE & FALSE\\\\\n",
       "\t FALSE & FALSE & FALSE &  TRUE & FALSE & FALSE\\\\\n",
       "\t FALSE &  TRUE & FALSE & FALSE & FALSE & FALSE\\\\\n",
       "\t FALSE & FALSE & FALSE & FALSE & FALSE & FALSE\\\\\n",
       "\t FALSE & FALSE & FALSE & FALSE & FALSE & FALSE\\\\\n",
       "\t FALSE & FALSE & FALSE & FALSE & FALSE & FALSE\\\\\n",
       "\t FALSE & FALSE & FALSE & FALSE & FALSE & FALSE\\\\\n",
       "\t FALSE & FALSE & FALSE & FALSE & FALSE & FALSE\\\\\n",
       "\t FALSE & FALSE & FALSE & FALSE & FALSE & FALSE\\\\\n",
       "\t FALSE & FALSE & FALSE & FALSE & FALSE & FALSE\\\\\n",
       "\t FALSE & FALSE & FALSE & FALSE & FALSE & FALSE\\\\\n",
       "\t FALSE & FALSE & FALSE & FALSE & FALSE & FALSE\\\\\n",
       "\t FALSE & FALSE & FALSE & FALSE & FALSE & FALSE\\\\\n",
       "\t FALSE & FALSE & FALSE & FALSE & FALSE & FALSE\\\\\n",
       "\t FALSE & FALSE & FALSE & FALSE & FALSE & FALSE\\\\\n",
       "\\end{tabular}\n"
      ],
      "text/markdown": [
       "\n",
       "| ID | Age | Professional.Exp | Income | Education | Credit.Card |\n",
       "|---|---|---|---|---|---|\n",
       "| FALSE | FALSE |  TRUE | FALSE | FALSE | FALSE |\n",
       "| FALSE | FALSE | FALSE | FALSE | FALSE | FALSE |\n",
       "| FALSE | FALSE | FALSE | FALSE | FALSE | FALSE |\n",
       "| FALSE | FALSE | FALSE | FALSE | FALSE | FALSE |\n",
       "| FALSE | FALSE | FALSE | FALSE | FALSE | FALSE |\n",
       "| FALSE | FALSE | FALSE | FALSE | FALSE | FALSE |\n",
       "| FALSE | FALSE | FALSE |  TRUE | FALSE | FALSE |\n",
       "| FALSE |  TRUE | FALSE | FALSE | FALSE | FALSE |\n",
       "| FALSE | FALSE | FALSE | FALSE | FALSE | FALSE |\n",
       "| FALSE | FALSE | FALSE | FALSE | FALSE | FALSE |\n",
       "| FALSE | FALSE | FALSE | FALSE | FALSE | FALSE |\n",
       "| FALSE | FALSE | FALSE | FALSE | FALSE | FALSE |\n",
       "| FALSE | FALSE | FALSE | FALSE | FALSE | FALSE |\n",
       "| FALSE | FALSE | FALSE | FALSE | FALSE | FALSE |\n",
       "| FALSE | FALSE | FALSE | FALSE | FALSE | FALSE |\n",
       "| FALSE | FALSE | FALSE | FALSE | FALSE | FALSE |\n",
       "| FALSE | FALSE | FALSE | FALSE | FALSE | FALSE |\n",
       "| FALSE | FALSE | FALSE | FALSE | FALSE | FALSE |\n",
       "| FALSE | FALSE | FALSE | FALSE | FALSE | FALSE |\n",
       "| FALSE | FALSE | FALSE | FALSE | FALSE | FALSE |\n",
       "\n"
      ],
      "text/plain": [
       "      ID    Age   Professional.Exp Income Education Credit.Card\n",
       " [1,] FALSE FALSE  TRUE            FALSE  FALSE     FALSE      \n",
       " [2,] FALSE FALSE FALSE            FALSE  FALSE     FALSE      \n",
       " [3,] FALSE FALSE FALSE            FALSE  FALSE     FALSE      \n",
       " [4,] FALSE FALSE FALSE            FALSE  FALSE     FALSE      \n",
       " [5,] FALSE FALSE FALSE            FALSE  FALSE     FALSE      \n",
       " [6,] FALSE FALSE FALSE            FALSE  FALSE     FALSE      \n",
       " [7,] FALSE FALSE FALSE             TRUE  FALSE     FALSE      \n",
       " [8,] FALSE  TRUE FALSE            FALSE  FALSE     FALSE      \n",
       " [9,] FALSE FALSE FALSE            FALSE  FALSE     FALSE      \n",
       "[10,] FALSE FALSE FALSE            FALSE  FALSE     FALSE      \n",
       "[11,] FALSE FALSE FALSE            FALSE  FALSE     FALSE      \n",
       "[12,] FALSE FALSE FALSE            FALSE  FALSE     FALSE      \n",
       "[13,] FALSE FALSE FALSE            FALSE  FALSE     FALSE      \n",
       "[14,] FALSE FALSE FALSE            FALSE  FALSE     FALSE      \n",
       "[15,] FALSE FALSE FALSE            FALSE  FALSE     FALSE      \n",
       "[16,] FALSE FALSE FALSE            FALSE  FALSE     FALSE      \n",
       "[17,] FALSE FALSE FALSE            FALSE  FALSE     FALSE      \n",
       "[18,] FALSE FALSE FALSE            FALSE  FALSE     FALSE      \n",
       "[19,] FALSE FALSE FALSE            FALSE  FALSE     FALSE      \n",
       "[20,] FALSE FALSE FALSE            FALSE  FALSE     FALSE      "
      ]
     },
     "metadata": {},
     "output_type": "display_data"
    }
   ],
   "source": [
    "is.na(bank)"
   ]
  },
  {
   "cell_type": "code",
   "execution_count": 9,
   "metadata": {},
   "outputs": [
    {
     "data": {
      "text/html": [
       "8"
      ],
      "text/latex": [
       "8"
      ],
      "text/markdown": [
       "8"
      ],
      "text/plain": [
       "[1] 8"
      ]
     },
     "metadata": {},
     "output_type": "display_data"
    }
   ],
   "source": [
    "which(is.na(bank$Age))"
   ]
  },
  {
   "cell_type": "code",
   "execution_count": 10,
   "metadata": {},
   "outputs": [
    {
     "data": {
      "text/html": [
       "3"
      ],
      "text/latex": [
       "3"
      ],
      "text/markdown": [
       "3"
      ],
      "text/plain": [
       "[1] 3"
      ]
     },
     "metadata": {},
     "output_type": "display_data"
    }
   ],
   "source": [
    "sum(is.na(bank))"
   ]
  },
  {
   "cell_type": "code",
   "execution_count": 11,
   "metadata": {},
   "outputs": [
    {
     "name": "stdout",
     "output_type": "stream",
     "text": [
      "'data.frame':\t20 obs. of  6 variables:\n",
      " $ ID              : int  1 2 3 4 5 6 7 8 9 10 ...\n",
      " $ Age             : int  25 45 39 35 35 37 53 NA 35 34 ...\n",
      " $ Professional.Exp: int  NA 19 15 9 8 13 27 24 10 9 ...\n",
      " $ Income          : int  49 34 11 100 45 29 NA 22 81 180 ...\n",
      " $ Education       : Factor w/ 3 levels \"Grad\",\"Prof\",..: 3 3 3 1 1 1 1 2 1 2 ...\n",
      " $ Credit.Card     : Factor w/ 2 levels \"No\",\"Yes\": 1 1 1 1 2 1 1 2 1 1 ...\n"
     ]
    }
   ],
   "source": [
    "str(bank)"
   ]
  },
  {
   "cell_type": "code",
   "execution_count": 12,
   "metadata": {},
   "outputs": [
    {
     "data": {
      "text/html": [
       "'factor'"
      ],
      "text/latex": [
       "'factor'"
      ],
      "text/markdown": [
       "'factor'"
      ],
      "text/plain": [
       "[1] \"factor\""
      ]
     },
     "metadata": {},
     "output_type": "display_data"
    }
   ],
   "source": [
    "class(bank$Education)"
   ]
  },
  {
   "cell_type": "code",
   "execution_count": 13,
   "metadata": {},
   "outputs": [
    {
     "data": {
      "text/html": [
       "'factor'"
      ],
      "text/latex": [
       "'factor'"
      ],
      "text/markdown": [
       "'factor'"
      ],
      "text/plain": [
       "[1] \"factor\""
      ]
     },
     "metadata": {},
     "output_type": "display_data"
    }
   ],
   "source": [
    "cbass(bank$Credit.Card)"
   ]
  },
  {
   "cell_type": "code",
   "execution_count": null,
   "metadata": {},
   "outputs": [],
   "source": [
    "factor(bank$Education)"
   ]
  },
  {
   "cell_type": "markdown",
   "metadata": {},
   "source": [
    "### Is factor case insensitive?\n"
   ]
  },
  {
   "cell_type": "code",
   "execution_count": 15,
   "metadata": {},
   "outputs": [
    {
     "data": {
      "text/html": [
       "'integer'"
      ],
      "text/latex": [
       "'integer'"
      ],
      "text/markdown": [
       "'integer'"
      ],
      "text/plain": [
       "[1] \"integer\""
      ]
     },
     "metadata": {},
     "output_type": "display_data"
    }
   ],
   "source": [
    "class(bank$Income)"
   ]
  },
  {
   "cell_type": "code",
   "execution_count": 16,
   "metadata": {},
   "outputs": [],
   "source": [
    "bank$Age=as.numeric(bank$Age)"
   ]
  },
  {
   "cell_type": "code",
   "execution_count": null,
   "metadata": {},
   "outputs": [],
   "source": []
  },
  {
   "cell_type": "code",
   "execution_count": 17,
   "metadata": {},
   "outputs": [
    {
     "name": "stderr",
     "output_type": "stream",
     "text": [
      "Warning message:\n",
      "\"package 'mice' was built under R version 3.6.3\"\n",
      "Attaching package: 'mice'\n",
      "\n",
      "The following object is masked from 'package:stats':\n",
      "\n",
      "    filter\n",
      "\n",
      "The following objects are masked from 'package:base':\n",
      "\n",
      "    cbind, rbind\n",
      "\n"
     ]
    }
   ],
   "source": [
    "library(mice)"
   ]
  },
  {
   "cell_type": "code",
   "execution_count": 18,
   "metadata": {},
   "outputs": [
    {
     "ename": "ERROR",
     "evalue": "Error in library(VIM): there is no package called 'VIM'\n",
     "output_type": "error",
     "traceback": [
      "Error in library(VIM): there is no package called 'VIM'\nTraceback:\n",
      "1. library(VIM)"
     ]
    }
   ],
   "source": [
    "library(VIM)"
   ]
  },
  {
   "cell_type": "code",
   "execution_count": 19,
   "metadata": {},
   "outputs": [
    {
     "data": {
      "text/html": [
       "<table>\n",
       "<thead><tr><th></th><th scope=col>ID</th><th scope=col>Education</th><th scope=col>Credit.Card</th><th scope=col>Age</th><th scope=col>Professional.Exp</th><th scope=col>Income</th><th scope=col></th></tr></thead>\n",
       "<tbody>\n",
       "\t<tr><th scope=row>17</th><td>1</td><td>1</td><td>1</td><td>1</td><td>1</td><td>1</td><td>0</td></tr>\n",
       "\t<tr><th scope=row>1</th><td>1</td><td>1</td><td>1</td><td>1</td><td>1</td><td>0</td><td>1</td></tr>\n",
       "\t<tr><th scope=row>1</th><td>1</td><td>1</td><td>1</td><td>1</td><td>0</td><td>1</td><td>1</td></tr>\n",
       "\t<tr><th scope=row>1</th><td>1</td><td>1</td><td>1</td><td>0</td><td>1</td><td>1</td><td>1</td></tr>\n",
       "\t<tr><th scope=row></th><td>0</td><td>0</td><td>0</td><td>1</td><td>1</td><td>1</td><td>3</td></tr>\n",
       "</tbody>\n",
       "</table>\n"
      ],
      "text/latex": [
       "\\begin{tabular}{r|lllllll}\n",
       "  & ID & Education & Credit.Card & Age & Professional.Exp & Income & \\\\\n",
       "\\hline\n",
       "\t17 & 1 & 1 & 1 & 1 & 1 & 1 & 0\\\\\n",
       "\t1 & 1 & 1 & 1 & 1 & 1 & 0 & 1\\\\\n",
       "\t1 & 1 & 1 & 1 & 1 & 0 & 1 & 1\\\\\n",
       "\t1 & 1 & 1 & 1 & 0 & 1 & 1 & 1\\\\\n",
       "\t & 0 & 0 & 0 & 1 & 1 & 1 & 3\\\\\n",
       "\\end{tabular}\n"
      ],
      "text/markdown": [
       "\n",
       "| <!--/--> | ID | Education | Credit.Card | Age | Professional.Exp | Income |  |\n",
       "|---|---|---|---|---|---|---|---|\n",
       "| 17 | 1 | 1 | 1 | 1 | 1 | 1 | 0 |\n",
       "| 1 | 1 | 1 | 1 | 1 | 1 | 0 | 1 |\n",
       "| 1 | 1 | 1 | 1 | 1 | 0 | 1 | 1 |\n",
       "| 1 | 1 | 1 | 1 | 0 | 1 | 1 | 1 |\n",
       "|  | 0 | 0 | 0 | 1 | 1 | 1 | 3 |\n",
       "\n"
      ],
      "text/plain": [
       "   ID Education Credit.Card Age Professional.Exp Income  \n",
       "17 1  1         1           1   1                1      0\n",
       "1  1  1         1           1   1                0      1\n",
       "1  1  1         1           1   0                1      1\n",
       "1  1  1         1           0   1                1      1\n",
       "   0  0         0           1   1                1      3"
      ]
     },
     "metadata": {},
     "output_type": "display_data"
    },
    {
     "data": {
      "image/png": "[encoded data removed]",
      "text/plain": [
       "plot without title"
      ]
     },
     "metadata": {},
     "output_type": "display_data"
    }
   ],
   "source": [
    "md.pattern(bank)"
   ]
  },
  {
   "cell_type": "code",
   "execution_count": 20,
   "metadata": {},
   "outputs": [
    {
     "name": "stdout",
     "output_type": "stream",
     "text": [
      "\n",
      " iter imp variable\n",
      "  1   1  Age  Professional.Exp  Income\n",
      "  1   2  Age  Professional.Exp  Income\n",
      "  1   3  Age  Professional.Exp  Income\n",
      "  1   4  Age  Professional.Exp  Income\n",
      "  1   5  Age  Professional.Exp  Income\n",
      "  2   1  Age  Professional.Exp  Income\n",
      "  2   2  Age  Professional.Exp  Income\n",
      "  2   3  Age  Professional.Exp  Income\n",
      "  2   4  Age  Professional.Exp  Income\n",
      "  2   5  Age  Professional.Exp  Income\n",
      "  3   1  Age  Professional.Exp  Income\n",
      "  3   2  Age  Professional.Exp  Income\n",
      "  3   3  Age  Professional.Exp  Income\n",
      "  3   4  Age  Professional.Exp  Income\n",
      "  3   5  Age  Professional.Exp  Income\n",
      "  4   1  Age  Professional.Exp  Income\n",
      "  4   2  Age  Professional.Exp  Income\n",
      "  4   3  Age  Professional.Exp  Income\n",
      "  4   4  Age  Professional.Exp  Income\n",
      "  4   5  Age  Professional.Exp  Income\n",
      "  5   1  Age  Professional.Exp  Income\n",
      "  5   2  Age  Professional.Exp  Income\n",
      "  5   3  Age  Professional.Exp  Income\n",
      "  5   4  Age  Professional.Exp  Income\n",
      "  5   5  Age  Professional.Exp  Income\n",
      "  6   1  Age  Professional.Exp  Income\n",
      "  6   2  Age  Professional.Exp  Income\n",
      "  6   3  Age  Professional.Exp  Income\n",
      "  6   4  Age  Professional.Exp  Income\n",
      "  6   5  Age  Professional.Exp  Income\n",
      "  7   1  Age  Professional.Exp  Income\n",
      "  7   2  Age  Professional.Exp  Income\n",
      "  7   3  Age  Professional.Exp  Income\n",
      "  7   4  Age  Professional.Exp  Income\n",
      "  7   5  Age  Professional.Exp  Income\n",
      "  8   1  Age  Professional.Exp  Income\n",
      "  8   2  Age  Professional.Exp  Income\n",
      "  8   3  Age  Professional.Exp  Income\n",
      "  8   4  Age  Professional.Exp  Income\n",
      "  8   5  Age  Professional.Exp  Income\n",
      "  9   1  Age  Professional.Exp  Income\n",
      "  9   2  Age  Professional.Exp  Income\n",
      "  9   3  Age  Professional.Exp  Income\n",
      "  9   4  Age  Professional.Exp  Income\n",
      "  9   5  Age  Professional.Exp  Income\n",
      "  10   1  Age  Professional.Exp  Income\n",
      "  10   2  Age  Professional.Exp  Income\n",
      "  10   3  Age  Professional.Exp  Income\n",
      "  10   4  Age  Professional.Exp  Income\n",
      "  10   5  Age  Professional.Exp  Income\n",
      "  11   1  Age  Professional.Exp  Income\n",
      "  11   2  Age  Professional.Exp  Income\n",
      "  11   3  Age  Professional.Exp  Income\n",
      "  11   4  Age  Professional.Exp  Income\n",
      "  11   5  Age  Professional.Exp  Income\n",
      "  12   1  Age  Professional.Exp  Income\n",
      "  12   2  Age  Professional.Exp  Income\n",
      "  12   3  Age  Professional.Exp  Income\n",
      "  12   4  Age  Professional.Exp  Income\n",
      "  12   5  Age  Professional.Exp  Income\n",
      "  13   1  Age  Professional.Exp  Income\n",
      "  13   2  Age  Professional.Exp  Income\n",
      "  13   3  Age  Professional.Exp  Income\n",
      "  13   4  Age  Professional.Exp  Income\n",
      "  13   5  Age  Professional.Exp  Income\n",
      "  14   1  Age  Professional.Exp  Income\n",
      "  14   2  Age  Professional.Exp  Income\n",
      "  14   3  Age  Professional.Exp  Income\n",
      "  14   4  Age  Professional.Exp  Income\n",
      "  14   5  Age  Professional.Exp  Income\n",
      "  15   1  Age  Professional.Exp  Income\n",
      "  15   2  Age  Professional.Exp  Income\n",
      "  15   3  Age  Professional.Exp  Income\n",
      "  15   4  Age  Professional.Exp  Income\n",
      "  15   5  Age  Professional.Exp  Income\n",
      "  16   1  Age  Professional.Exp  Income\n",
      "  16   2  Age  Professional.Exp  Income\n",
      "  16   3  Age  Professional.Exp  Income\n",
      "  16   4  Age  Professional.Exp  Income\n",
      "  16   5  Age  Professional.Exp  Income\n",
      "  17   1  Age  Professional.Exp  Income\n",
      "  17   2  Age  Professional.Exp  Income\n",
      "  17   3  Age  Professional.Exp  Income\n",
      "  17   4  Age  Professional.Exp  Income\n",
      "  17   5  Age  Professional.Exp  Income\n",
      "  18   1  Age  Professional.Exp  Income\n",
      "  18   2  Age  Professional.Exp  Income\n",
      "  18   3  Age  Professional.Exp  Income\n",
      "  18   4  Age  Professional.Exp  Income\n",
      "  18   5  Age  Professional.Exp  Income\n",
      "  19   1  Age  Professional.Exp  Income\n",
      "  19   2  Age  Professional.Exp  Income\n",
      "  19   3  Age  Professional.Exp  Income\n",
      "  19   4  Age  Professional.Exp  Income\n",
      "  19   5  Age  Professional.Exp  Income\n",
      "  20   1  Age  Professional.Exp  Income\n",
      "  20   2  Age  Professional.Exp  Income\n",
      "  20   3  Age  Professional.Exp  Income\n",
      "  20   4  Age  Professional.Exp  Income\n",
      "  20   5  Age  Professional.Exp  Income\n",
      "  21   1  Age  Professional.Exp  Income\n",
      "  21   2  Age  Professional.Exp  Income\n",
      "  21   3  Age  Professional.Exp  Income\n",
      "  21   4  Age  Professional.Exp  Income\n",
      "  21   5  Age  Professional.Exp  Income\n",
      "  22   1  Age  Professional.Exp  Income\n",
      "  22   2  Age  Professional.Exp  Income\n",
      "  22   3  Age  Professional.Exp  Income\n",
      "  22   4  Age  Professional.Exp  Income\n",
      "  22   5  Age  Professional.Exp  Income\n",
      "  23   1  Age  Professional.Exp  Income\n",
      "  23   2  Age  Professional.Exp  Income\n",
      "  23   3  Age  Professional.Exp  Income\n",
      "  23   4  Age  Professional.Exp  Income\n",
      "  23   5  Age  Professional.Exp  Income\n",
      "  24   1  Age  Professional.Exp  Income\n",
      "  24   2  Age  Professional.Exp  Income\n",
      "  24   3  Age  Professional.Exp  Income\n",
      "  24   4  Age  Professional.Exp  Income\n",
      "  24   5  Age  Professional.Exp  Income\n",
      "  25   1  Age  Professional.Exp  Income\n",
      "  25   2  Age  Professional.Exp  Income\n",
      "  25   3  Age  Professional.Exp  Income\n",
      "  25   4  Age  Professional.Exp  Income\n",
      "  25   5  Age  Professional.Exp  Income\n",
      "  26   1  Age  Professional.Exp  Income\n",
      "  26   2  Age  Professional.Exp  Income\n",
      "  26   3  Age  Professional.Exp  Income\n",
      "  26   4  Age  Professional.Exp  Income\n",
      "  26   5  Age  Professional.Exp  Income\n",
      "  27   1  Age  Professional.Exp  Income\n",
      "  27   2  Age  Professional.Exp  Income\n",
      "  27   3  Age  Professional.Exp  Income\n",
      "  27   4  Age  Professional.Exp  Income\n",
      "  27   5  Age  Professional.Exp  Income\n",
      "  28   1  Age  Professional.Exp  Income\n",
      "  28   2  Age  Professional.Exp  Income\n",
      "  28   3  Age  Professional.Exp  Income\n",
      "  28   4  Age  Professional.Exp  Income\n",
      "  28   5  Age  Professional.Exp  Income\n",
      "  29   1  Age  Professional.Exp  Income\n",
      "  29   2  Age  Professional.Exp  Income\n",
      "  29   3  Age  Professional.Exp  Income\n",
      "  29   4  Age  Professional.Exp  Income\n",
      "  29   5  Age  Professional.Exp  Income\n",
      "  30   1  Age  Professional.Exp  Income\n",
      "  30   2  Age  Professional.Exp  Income\n",
      "  30   3  Age  Professional.Exp  Income\n",
      "  30   4  Age  Professional.Exp  Income\n",
      "  30   5  Age  Professional.Exp  Income\n",
      "  31   1  Age  Professional.Exp  Income\n",
      "  31   2  Age  Professional.Exp  Income\n",
      "  31   3  Age  Professional.Exp  Income\n",
      "  31   4  Age  Professional.Exp  Income\n",
      "  31   5  Age  Professional.Exp  Income\n",
      "  32   1  Age  Professional.Exp  Income\n",
      "  32   2  Age  Professional.Exp  Income\n",
      "  32   3  Age  Professional.Exp  Income\n",
      "  32   4  Age  Professional.Exp  Income\n",
      "  32   5  Age  Professional.Exp  Income\n",
      "  33   1  Age  Professional.Exp  Income\n",
      "  33   2  Age  Professional.Exp  Income\n",
      "  33   3  Age  Professional.Exp  Income\n",
      "  33   4  Age  Professional.Exp  Income\n",
      "  33   5  Age  Professional.Exp  Income\n",
      "  34   1  Age  Professional.Exp  Income\n",
      "  34   2  Age  Professional.Exp  Income\n",
      "  34   3  Age  Professional.Exp  Income\n",
      "  34   4  Age  Professional.Exp  Income\n",
      "  34   5  Age  Professional.Exp  Income\n",
      "  35   1  Age  Professional.Exp  Income\n",
      "  35   2  Age  Professional.Exp  Income\n",
      "  35   3  Age  Professional.Exp  Income\n",
      "  35   4  Age  Professional.Exp  Income\n",
      "  35   5  Age  Professional.Exp  Income\n",
      "  36   1  Age  Professional.Exp  Income\n",
      "  36   2  Age  Professional.Exp  Income\n",
      "  36   3  Age  Professional.Exp  Income\n",
      "  36   4  Age  Professional.Exp  Income\n",
      "  36   5  Age  Professional.Exp  Income\n",
      "  37   1  Age  Professional.Exp  Income\n",
      "  37   2  Age  Professional.Exp  Income\n",
      "  37   3  Age  Professional.Exp  Income\n",
      "  37   4  Age  Professional.Exp  Income\n",
      "  37   5  Age  Professional.Exp  Income\n",
      "  38   1  Age  Professional.Exp  Income\n",
      "  38   2  Age  Professional.Exp  Income\n",
      "  38   3  Age  Professional.Exp  Income\n",
      "  38   4  Age  Professional.Exp  Income\n",
      "  38   5  Age  Professional.Exp  Income\n",
      "  39   1  Age  Professional.Exp  Income\n",
      "  39   2  Age  Professional.Exp  Income\n",
      "  39   3  Age  Professional.Exp  Income\n",
      "  39   4  Age  Professional.Exp  Income\n",
      "  39   5  Age  Professional.Exp  Income\n",
      "  40   1  Age  Professional.Exp  Income\n",
      "  40   2  Age  Professional.Exp  Income\n",
      "  40   3  Age  Professional.Exp  Income\n",
      "  40   4  Age  Professional.Exp  Income\n",
      "  40   5  Age  Professional.Exp  Income\n",
      "  41   1  Age  Professional.Exp  Income\n",
      "  41   2  Age  Professional.Exp  Income\n",
      "  41   3  Age  Professional.Exp  Income\n",
      "  41   4  Age  Professional.Exp  Income\n",
      "  41   5  Age  Professional.Exp  Income\n",
      "  42   1  Age  Professional.Exp  Income\n",
      "  42   2  Age  Professional.Exp  Income\n",
      "  42   3  Age  Professional.Exp  Income\n",
      "  42   4  Age  Professional.Exp  Income\n",
      "  42   5  Age  Professional.Exp  Income\n",
      "  43   1  Age  Professional.Exp  Income\n",
      "  43   2  Age  Professional.Exp  Income\n",
      "  43   3  Age  Professional.Exp  Income\n",
      "  43   4  Age  Professional.Exp  Income\n",
      "  43   5  Age  Professional.Exp  Income\n",
      "  44   1  Age  Professional.Exp  Income\n",
      "  44   2  Age  Professional.Exp  Income\n",
      "  44   3  Age  Professional.Exp  Income\n",
      "  44   4  Age  Professional.Exp  Income\n",
      "  44   5  Age  Professional.Exp  Income\n",
      "  45   1  Age  Professional.Exp  Income\n",
      "  45   2  Age  Professional.Exp  Income\n",
      "  45   3  Age  Professional.Exp  Income\n",
      "  45   4  Age  Professional.Exp  Income\n",
      "  45   5  Age  Professional.Exp  Income\n",
      "  46   1  Age  Professional.Exp  Income\n",
      "  46   2  Age  Professional.Exp  Income\n",
      "  46   3  Age  Professional.Exp  Income\n",
      "  46   4  Age  Professional.Exp  Income\n",
      "  46   5  Age  Professional.Exp  Income\n",
      "  47   1  Age  Professional.Exp  Income\n",
      "  47   2  Age  Professional.Exp  Income\n",
      "  47   3  Age  Professional.Exp  Income\n",
      "  47   4  Age  Professional.Exp  Income\n",
      "  47   5  Age  Professional.Exp  Income\n",
      "  48   1  Age  Professional.Exp  Income\n",
      "  48   2  Age  Professional.Exp  Income\n",
      "  48   3  Age  Professional.Exp  Income\n",
      "  48   4  Age  Professional.Exp  Income\n",
      "  48   5  Age  Professional.Exp  Income\n",
      "  49   1  Age  Professional.Exp  Income\n",
      "  49   2  Age  Professional.Exp  Income\n",
      "  49   3  Age  Professional.Exp  Income\n",
      "  49   4  Age  Professional.Exp  Income\n",
      "  49   5  Age  Professional.Exp  Income\n",
      "  50   1  Age  Professional.Exp  Income\n",
      "  50   2  Age  Professional.Exp  Income\n",
      "  50   3  Age  Professional.Exp  Income\n",
      "  50   4  Age  Professional.Exp  Income\n",
      "  50   5  Age  Professional.Exp  Income\n"
     ]
    },
    {
     "name": "stderr",
     "output_type": "stream",
     "text": [
      "Warning message:\n",
      "\"Number of logged events: 140\""
     ]
    }
   ],
   "source": [
    "bank1<-mice(bank,m=5,maxit=50,meth='pmm')"
   ]
  },
  {
   "cell_type": "code",
   "execution_count": 21,
   "metadata": {},
   "outputs": [
    {
     "name": "stdout",
     "output_type": "stream",
     "text": [
      "Class: mids\n",
      "Number of multiple imputations:  5 \n",
      "Imputation methods:\n",
      "              ID              Age Professional.Exp           Income \n",
      "              \"\"            \"pmm\"            \"pmm\"            \"pmm\" \n",
      "       Education      Credit.Card \n",
      "              \"\"               \"\" \n",
      "PredictorMatrix:\n",
      "                 ID Age Professional.Exp Income Education Credit.Card\n",
      "ID                0   1                1      1         1           1\n",
      "Age               1   0                1      1         1           1\n",
      "Professional.Exp  1   1                0      1         1           1\n",
      "Income            1   1                1      0         1           1\n",
      "Education         1   1                1      1         0           1\n",
      "Credit.Card       1   1                1      1         1           0\n",
      "Number of logged events:  140 \n",
      "  it im              dep meth              out\n",
      "1  1  1 Professional.Exp  pmm              Age\n",
      "2  1  2 Professional.Exp  pmm              Age\n",
      "3  1  3 Professional.Exp  pmm              Age\n",
      "4  1  5              Age  pmm Professional.Exp\n",
      "5  2  1 Professional.Exp  pmm              Age\n",
      "6  2  2 Professional.Exp  pmm              Age\n"
     ]
    }
   ],
   "source": [
    "summary(bank1)"
   ]
  },
  {
   "cell_type": "markdown",
   "metadata": {},
   "source": [
    "Serial number shoud not be considered."
   ]
  },
  {
   "cell_type": "code",
   "execution_count": 22,
   "metadata": {},
   "outputs": [
    {
     "data": {
      "text/html": [
       "<table>\n",
       "<thead><tr><th></th><th scope=col>1</th><th scope=col>2</th><th scope=col>3</th><th scope=col>4</th><th scope=col>5</th></tr></thead>\n",
       "<tbody>\n",
       "\t<tr><th scope=row>8</th><td>45</td><td>42</td><td>53</td><td>46</td><td>38</td></tr>\n",
       "</tbody>\n",
       "</table>\n"
      ],
      "text/latex": [
       "\\begin{tabular}{r|lllll}\n",
       "  & 1 & 2 & 3 & 4 & 5\\\\\n",
       "\\hline\n",
       "\t8 & 45 & 42 & 53 & 46 & 38\\\\\n",
       "\\end{tabular}\n"
      ],
      "text/markdown": [
       "\n",
       "| <!--/--> | 1 | 2 | 3 | 4 | 5 |\n",
       "|---|---|---|---|---|---|\n",
       "| 8 | 45 | 42 | 53 | 46 | 38 |\n",
       "\n"
      ],
      "text/plain": [
       "  1  2  3  4  5 \n",
       "8 45 42 53 46 38"
      ]
     },
     "metadata": {},
     "output_type": "display_data"
    }
   ],
   "source": [
    "bank1$imp$Age # This should be done!!"
   ]
  },
  {
   "cell_type": "code",
   "execution_count": null,
   "metadata": {},
   "outputs": [],
   "source": []
  },
  {
   "cell_type": "code",
   "execution_count": null,
   "metadata": {},
   "outputs": [],
   "source": [
    "compbank <- comp(bank1,1)"
   ]
  },
  {
   "cell_type": "code",
   "execution_count": null,
   "metadata": {},
   "outputs": [],
   "source": []
  },
  {
   "cell_type": "code",
   "execution_count": null,
   "metadata": {},
   "outputs": [],
   "source": []
  },
  {
   "cell_type": "code",
   "execution_count": null,
   "metadata": {},
   "outputs": [],
   "source": []
  },
  {
   "cell_type": "code",
   "execution_count": null,
   "metadata": {},
   "outputs": [],
   "source": []
  },
  {
   "cell_type": "code",
   "execution_count": null,
   "metadata": {},
   "outputs": [],
   "source": []
  },
  {
   "cell_type": "code",
   "execution_count": null,
   "metadata": {},
   "outputs": [],
   "source": []
  }
 ],
 "metadata": {
  "kernelspec": {
   "display_name": "R",
   "language": "R",
   "name": "ir"
  },
  "language_info": {
   "codemirror_mode": "r",
   "file_extension": ".r",
   "mimetype": "text/x-r-source",
   "name": "R",
   "pygments_lexer": "r",
   "version": "3.6.1"
  }
 },
 "nbformat": 4,
 "nbformat_minor": 4
}
