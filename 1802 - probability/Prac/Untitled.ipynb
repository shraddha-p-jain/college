{
 "cells": [
  {
   "cell_type": "markdown",
   "metadata": {},
   "source": [
    "# 1"
   ]
  },
  {
   "cell_type": "markdown",
   "metadata": {},
   "source": [
    "## Data description"
   ]
  },
  {
   "cell_type": "markdown",
   "metadata": {},
   "source": [
    "### Quantitative"
   ]
  },
  {
   "cell_type": "markdown",
   "metadata": {},
   "source": [
    "The dataset used is 'precip' from the R's library Datasets."
   ]
  },
  {
   "cell_type": "markdown",
   "metadata": {},
   "source": [
    "**Annual Precipitation in US Cities**. The vector precip contains average amount\n",
    "of rainfall (in inches) for each of 70 cities in the United States and Puerto Rico"
   ]
  },
  {
   "cell_type": "code",
   "execution_count": 10,
   "metadata": {},
   "outputs": [
    {
     "name": "stdout",
     "output_type": "stream",
     "text": [
      " Named num [1:70] 67 54.7 7 48.5 14 17.2 20.7 13 43.4 40.2 ...\n",
      " - attr(*, \"names\")= chr [1:70] \"Mobile\" \"Juneau\" \"Phoenix\" \"Little Rock\" ...\n"
     ]
    }
   ],
   "source": [
    "str(precip)"
   ]
  },
  {
   "cell_type": "markdown",
   "metadata": {},
   "source": [
    "The output shows that precip is a numeric vector which has been named"
   ]
  },
  {
   "cell_type": "code",
   "execution_count": 11,
   "metadata": {},
   "outputs": [
    {
     "data": {
      "text/html": [
       "<dl class=dl-horizontal>\n",
       "\t<dt>Mobile</dt>\n",
       "\t\t<dd>67</dd>\n",
       "\t<dt>Juneau</dt>\n",
       "\t\t<dd>54.7</dd>\n",
       "\t<dt>Phoenix</dt>\n",
       "\t\t<dd>7</dd>\n",
       "\t<dt>Little Rock</dt>\n",
       "\t\t<dd>48.5</dd>\n",
       "</dl>\n"
      ],
      "text/latex": [
       "\\begin{description*}\n",
       "\\item[Mobile] 67\n",
       "\\item[Juneau] 54.7\n",
       "\\item[Phoenix] 7\n",
       "\\item[Little Rock] 48.5\n",
       "\\end{description*}\n"
      ],
      "text/markdown": [
       "Mobile\n",
       ":   67Juneau\n",
       ":   54.7Phoenix\n",
       ":   7Little Rock\n",
       ":   48.5\n",
       "\n"
      ],
      "text/plain": [
       "     Mobile      Juneau     Phoenix Little Rock \n",
       "       67.0        54.7         7.0        48.5 "
      ]
     },
     "metadata": {},
     "output_type": "display_data"
    }
   ],
   "source": [
    "precip[1:4]"
   ]
  },
  {
   "cell_type": "markdown",
   "metadata": {},
   "source": [
    "This is quantitative - continuous data"
   ]
  },
  {
   "cell_type": "markdown",
   "metadata": {},
   "source": [
    "Another dataset - rivers"
   ]
  },
  {
   "cell_type": "markdown",
   "metadata": {},
   "source": [
    "**Lengths of Major North American Rivers:** The U.S. Geological Survey recorded the lengths (in miles) of several rivers in North America. "
   ]
  },
  {
   "cell_type": "code",
   "execution_count": 12,
   "metadata": {},
   "outputs": [
    {
     "name": "stdout",
     "output_type": "stream",
     "text": [
      " num [1:141] 735 320 325 392 524 ...\n"
     ]
    }
   ],
   "source": [
    "str(rivers)"
   ]
  },
  {
   "cell_type": "code",
   "execution_count": 16,
   "metadata": {},
   "outputs": [
    {
     "data": {
      "text/html": [
       "<ol class=list-inline>\n",
       "\t<li>735</li>\n",
       "\t<li>320</li>\n",
       "\t<li>325</li>\n",
       "\t<li>392</li>\n",
       "</ol>\n"
      ],
      "text/latex": [
       "\\begin{enumerate*}\n",
       "\\item 735\n",
       "\\item 320\n",
       "\\item 325\n",
       "\\item 392\n",
       "\\end{enumerate*}\n"
      ],
      "text/markdown": [
       "1. 735\n",
       "2. 320\n",
       "3. 325\n",
       "4. 392\n",
       "\n",
       "\n"
      ],
      "text/plain": [
       "[1] 735 320 325 392"
      ]
     },
     "metadata": {},
     "output_type": "display_data"
    }
   ],
   "source": [
    "rivers[1:4]"
   ]
  },
  {
   "cell_type": "markdown",
   "metadata": {},
   "source": [
    "Since it is rounded up to nearest mile, it is 'statistically' discrete data, but we can treat it as continuous, to make it easier to handle."
   ]
  },
  {
   "cell_type": "markdown",
   "metadata": {},
   "source": [
    "Yet another dataset:"
   ]
  },
  {
   "cell_type": "markdown",
   "metadata": {},
   "source": [
    "**Yearly Numbers of Important Discoveries:** The vector discoveries contains\n",
    "numbers of “great” inventions/discoveries in each year from 1860 to 1959, as reported by the\n",
    "1975 World Almanac"
   ]
  },
  {
   "cell_type": "code",
   "execution_count": 14,
   "metadata": {},
   "outputs": [
    {
     "name": "stdout",
     "output_type": "stream",
     "text": [
      " Time-Series [1:100] from 1860 to 1959: 5 3 0 2 0 3 2 3 6 1 ...\n"
     ]
    }
   ],
   "source": [
    "str(discoveries)"
   ]
  },
  {
   "cell_type": "code",
   "execution_count": 18,
   "metadata": {},
   "outputs": [
    {
     "data": {
      "text/html": [
       "<ol class=list-inline>\n",
       "\t<li>5</li>\n",
       "\t<li>3</li>\n",
       "\t<li>0</li>\n",
       "\t<li>2</li>\n",
       "</ol>\n"
      ],
      "text/latex": [
       "\\begin{enumerate*}\n",
       "\\item 5\n",
       "\\item 3\n",
       "\\item 0\n",
       "\\item 2\n",
       "\\end{enumerate*}\n"
      ],
      "text/markdown": [
       "1. 5\n",
       "2. 3\n",
       "3. 0\n",
       "4. 2\n",
       "\n",
       "\n"
      ],
      "text/plain": [
       "[1] 5 3 0 2"
      ]
     },
     "metadata": {},
     "output_type": "display_data"
    }
   ],
   "source": [
    "discoveries[1:4]"
   ]
  },
  {
   "cell_type": "markdown",
   "metadata": {},
   "source": [
    "This is unlabled, but from the discription, we know that it is time series data."
   ]
  },
  {
   "cell_type": "markdown",
   "metadata": {},
   "source": [
    "## Displaying the data"
   ]
  },
  {
   "cell_type": "markdown",
   "metadata": {},
   "source": [
    "### 1. Dot plots\n",
    "\n",
    "Also called strip charts"
   ]
  },
  {
   "cell_type": "code",
   "execution_count": 21,
   "metadata": {},
   "outputs": [],
   "source": [
    "?stripchart"
   ]
  },
  {
   "cell_type": "code",
   "execution_count": 29,
   "metadata": {},
   "outputs": [],
   "source": [
    "# Codes to display graphs more appropriately"
   ]
  },
  {
   "cell_type": "code",
   "execution_count": 35,
   "metadata": {},
   "outputs": [],
   "source": [
    "library(repr)\n",
    "options(repr.plot.height = 4, repr.plot.width= 5)"
   ]
  },
  {
   "cell_type": "code",
   "execution_count": 37,
   "metadata": {},
   "outputs": [
    {
     "data": {
      "image/png": "[encoded data removed]",
      "text/plain": [
       "plot without title"
      ]
     },
     "metadata": {},
     "output_type": "display_data"
    }
   ],
   "source": [
    "\n",
    "stripchart(precip, xlab = \"rainfall\")\n"
   ]
  },
  {
   "cell_type": "code",
   "execution_count": 38,
   "metadata": {},
   "outputs": [
    {
     "data": {
      "image/png": "[encoded data removed]",
      "text/plain": [
       "plot without title"
      ]
     },
     "metadata": {},
     "output_type": "display_data"
    }
   ],
   "source": [
    "stripchart(precip, xlab = \"rainfall\", method = 'stack')"
   ]
  },
  {
   "cell_type": "code",
   "execution_count": 39,
   "metadata": {},
   "outputs": [
    {
     "data": {
      "image/png": "[encoded data removed]",
      "text/plain": [
       "plot without title"
      ]
     },
     "metadata": {},
     "output_type": "display_data"
    }
   ],
   "source": [
    "stripchart(rivers, method = \"jitter\", xlab = \"length\")"
   ]
  },
  {
   "cell_type": "code",
   "execution_count": 40,
   "metadata": {},
   "outputs": [
    {
     "data": {
      "image/png": "[encoded data removed]",
      "text/plain": [
       "plot without title"
      ]
     },
     "metadata": {},
     "output_type": "display_data"
    }
   ],
   "source": [
    "stripchart(discoveries, method = \"stack\", xlab = \"number\")"
   ]
  },
  {
   "cell_type": "markdown",
   "metadata": {},
   "source": [
    "### 2. Histograms"
   ]
  },
  {
   "cell_type": "markdown",
   "metadata": {},
   "source": [
    "These are typically used for continuous data.\n",
    "\n",
    "be careful regarding the biggest weakness of histograms: the graph obtained strongly\n",
    "depends on the bins chosen. Choose another set of bins, and you will get a different histogram.\n",
    "Moreover, there are not any definitive criteria by which bins should be defined; the best choice\n",
    "for a given data set is the one which illuminates the data set’s underlying structure (if any).\n",
    "Luckily for us there are algorithms to automatically choose bins that are likely to display well,\n",
    "and more often than not the default bins do a good job. This is not always the case, however, and\n",
    "a responsible statisticianwill investigatemany bin choices to test the stability of the display"
   ]
  },
  {
   "cell_type": "code",
   "execution_count": 41,
   "metadata": {},
   "outputs": [
    {
     "data": {
      "image/png": "[encoded data removed]",
      "text/plain": [
       "Plot with title \"\""
      ]
     },
     "metadata": {},
     "output_type": "display_data"
    },
    {
     "data": {
      "image/png": "[encoded data removed]",
      "text/plain": [
       "Plot with title \"\""
      ]
     },
     "metadata": {},
     "output_type": "display_data"
    }
   ],
   "source": [
    "hist(precip, main = \"\")  ## Frequency histogram\n",
    "hist(precip, freq = FALSE, main = \"\") ## Relative Frequency Histogram"
   ]
  },
  {
   "cell_type": "code",
   "execution_count": 45,
   "metadata": {},
   "outputs": [
    {
     "data": {
      "image/png": "[encoded data removed]",
      "text/plain": [
       "Plot with title \"\""
      ]
     },
     "metadata": {},
     "output_type": "display_data"
    },
    {
     "data": {
      "image/png": "[encoded data removed]",
      "text/plain": [
       "Plot with title \"\""
      ]
     },
     "metadata": {},
     "output_type": "display_data"
    }
   ],
   "source": [
    "# histograms with different breaks\n",
    "hist(precip, breaks = 10, main = \"\",xlim = c(0,70))\n",
    "hist(precip, breaks = 200, main = \"\",xlim = c(0,70))"
   ]
  },
  {
   "cell_type": "markdown",
   "metadata": {},
   "source": [
    "### 3. Stem and leaf plot"
   ]
  },
  {
   "cell_type": "markdown",
   "metadata": {},
   "source": [
    "'aplpack' package is used to construct stem and leaf plot.  "
   ]
  },
  {
   "cell_type": "markdown",
   "metadata": {},
   "source": [
    "The dataset used is:\n",
    "\n",
    "**UKDriverDeaths** is a time series that contains the total car drivers killed or\n",
    "seriously injured in Great Britain monthly from Jan 1969 to Dec 1984"
   ]
  },
  {
   "cell_type": "code",
   "execution_count": 46,
   "metadata": {},
   "outputs": [
    {
     "name": "stdout",
     "output_type": "stream",
     "text": [
      " Time-Series [1:192] from 1969 to 1985: 1687 1508 1507 1385 1632 ...\n"
     ]
    }
   ],
   "source": [
    "str(UKDriverDeaths)"
   ]
  },
  {
   "cell_type": "code",
   "execution_count": 47,
   "metadata": {},
   "outputs": [
    {
     "data": {
      "text/html": [
       "<ol class=list-inline>\n",
       "\t<li>1687</li>\n",
       "\t<li>1508</li>\n",
       "\t<li>1507</li>\n",
       "\t<li>1385</li>\n",
       "\t<li>1632</li>\n",
       "</ol>\n"
      ],
      "text/latex": [
       "\\begin{enumerate*}\n",
       "\\item 1687\n",
       "\\item 1508\n",
       "\\item 1507\n",
       "\\item 1385\n",
       "\\item 1632\n",
       "\\end{enumerate*}\n"
      ],
      "text/markdown": [
       "1. 1687\n",
       "2. 1508\n",
       "3. 1507\n",
       "4. 1385\n",
       "5. 1632\n",
       "\n",
       "\n"
      ],
      "text/plain": [
       "[1] 1687 1508 1507 1385 1632"
      ]
     },
     "metadata": {},
     "output_type": "display_data"
    }
   ],
   "source": [
    "UKDriverDeaths[1:5]"
   ]
  },
  {
   "cell_type": "code",
   "execution_count": 49,
   "metadata": {},
   "outputs": [
    {
     "name": "stdout",
     "output_type": "stream",
     "text": [
      "package 'aplpack' successfully unpacked and MD5 sums checked\n",
      "\n",
      "The downloaded binary packages are in\n",
      "\tC:\\Users\\Shraddha\\AppData\\Local\\Temp\\RtmpQtqZWO\\downloaded_packages\n"
     ]
    }
   ],
   "source": [
    "install.packages('aplpack')"
   ]
  },
  {
   "cell_type": "code",
   "execution_count": 54,
   "metadata": {},
   "outputs": [
    {
     "name": "stdout",
     "output_type": "stream",
     "text": [
      "1 | 2: represents 120\n",
      " leaf unit: 10\n",
      "            n: 192\n",
      "   10 | 57\n",
      "   11 | 136678\n",
      "   12 | 123889\n",
      "   13 | 0255666888899\n",
      "   14 | 00001222344444555556667788889\n",
      "   15 | 0000111112222223444455555566677779\n",
      "   16 | 01222333444445555555678888889\n",
      "   17 | 11233344566667799\n",
      "   18 | 00011235568\n",
      "   19 | 01234455667799\n",
      "   20 | 0000113557788899\n",
      "   21 | 145599\n",
      "   22 | 013467\n",
      "   23 | 9\n",
      "   24 | 7\n",
      "HI: 2654\n"
     ]
    }
   ],
   "source": [
    "library(aplpack)\n",
    "stem.leaf(UKDriverDeaths, depth = FALSE)"
   ]
  },
  {
   "cell_type": "code",
   "execution_count": 56,
   "metadata": {},
   "outputs": [
    {
     "name": "stdout",
     "output_type": "stream",
     "text": [
      "1 | 2: represents 120\n",
      " leaf unit: 10\n",
      "            n: 192\n",
      "    2    10 | 57\n",
      "    8    11 | 136678\n",
      "   14    12 | 123889\n",
      "   27    13 | 0255666888899\n",
      "   56    14 | 00001222344444555556667788889\n",
      "   90    15 | 0000111112222223444455555566677779\n",
      "  (29)   16 | 01222333444445555555678888889\n",
      "   73    17 | 11233344566667799\n",
      "   56    18 | 00011235568\n",
      "   45    19 | 01234455667799\n",
      "   31    20 | 0000113557788899\n",
      "   15    21 | 145599\n",
      "    9    22 | 013467\n",
      "    3    23 | 9\n",
      "    2    24 | 7\n",
      "HI: 2654\n"
     ]
    }
   ],
   "source": [
    "stem.leaf(UKDriverDeaths)  ## Depths: if TRUE (the default), print a column of \"depths\" to the left of the stems; \n",
    "                            ##the depth of the stem containing the median is the stem-count enclosed in parentheses."
   ]
  },
  {
   "cell_type": "markdown",
   "metadata": {},
   "source": [
    "Depth is sort of cumulative frequency till median, from both above and below. ???"
   ]
  },
  {
   "cell_type": "markdown",
   "metadata": {},
   "source": [
    "### 4. Index plot"
   ]
  },
  {
   "cell_type": "markdown",
   "metadata": {},
   "source": [
    "**Level of Lake Huron** 1875-1972. Brockwell and Davis [11] give the annual\n",
    "measurements of the level (in feet) of Lake Huron from 1875–1972."
   ]
  },
  {
   "cell_type": "code",
   "execution_count": 58,
   "metadata": {},
   "outputs": [
    {
     "data": {
      "image/png": "[encoded data removed]",
      "text/plain": [
       "plot without title"
      ]
     },
     "metadata": {},
     "output_type": "display_data"
    },
    {
     "data": {
      "image/png": "[encoded data removed]",
      "text/plain": [
       "plot without title"
      ]
     },
     "metadata": {},
     "output_type": "display_data"
    }
   ],
   "source": [
    "plot(LakeHuron, type = \"h\")\n",
    "plot(LakeHuron, type = \"p\")"
   ]
  },
  {
   "cell_type": "markdown",
   "metadata": {},
   "source": [
    "### Qualitative"
   ]
  },
  {
   "cell_type": "code",
   "execution_count": 67,
   "metadata": {},
   "outputs": [],
   "source": [
    "?state.abb"
   ]
  },
  {
   "cell_type": "code",
   "execution_count": 61,
   "metadata": {},
   "outputs": [
    {
     "name": "stdout",
     "output_type": "stream",
     "text": [
      " chr [1:50] \"AL\" \"AK\" \"AZ\" \"AR\" \"CA\" \"CO\" \"CT\" \"DE\" \"FL\" \"GA\" \"HI\" \"ID\" ...\n"
     ]
    }
   ],
   "source": [
    "str(state.abb)"
   ]
  },
  {
   "cell_type": "markdown",
   "metadata": {},
   "source": [
    "This is a list containing the abbrevations of 50 states of America"
   ]
  },
  {
   "cell_type": "code",
   "execution_count": 62,
   "metadata": {},
   "outputs": [
    {
     "name": "stdout",
     "output_type": "stream",
     "text": [
      " Factor w/ 4 levels \"Northeast\",\"South\",..: 2 4 4 2 4 4 1 2 2 2 ...\n"
     ]
    }
   ],
   "source": [
    "str(state.region)"
   ]
  },
  {
   "cell_type": "code",
   "execution_count": 63,
   "metadata": {},
   "outputs": [
    {
     "data": {
      "text/html": [
       "<ol class=list-inline>\n",
       "\t<li>'Northeast'</li>\n",
       "\t<li>'South'</li>\n",
       "\t<li>'North Central'</li>\n",
       "\t<li>'West'</li>\n",
       "</ol>\n"
      ],
      "text/latex": [
       "\\begin{enumerate*}\n",
       "\\item 'Northeast'\n",
       "\\item 'South'\n",
       "\\item 'North Central'\n",
       "\\item 'West'\n",
       "\\end{enumerate*}\n"
      ],
      "text/markdown": [
       "1. 'Northeast'\n",
       "2. 'South'\n",
       "3. 'North Central'\n",
       "4. 'West'\n",
       "\n",
       "\n"
      ],
      "text/plain": [
       "[1] \"Northeast\"     \"South\"         \"North Central\" \"West\"         "
      ]
     },
     "metadata": {},
     "output_type": "display_data"
    }
   ],
   "source": [
    "levels(state.region)"
   ]
  },
  {
   "cell_type": "code",
   "execution_count": 64,
   "metadata": {},
   "outputs": [
    {
     "data": {
      "text/html": [
       "<ol class=list-inline>\n",
       "\t<li>South</li>\n",
       "\t<li>West</li>\n",
       "\t<li>West</li>\n",
       "\t<li>South</li>\n",
       "\t<li>West</li>\n",
       "</ol>\n",
       "\n",
       "<details>\n",
       "\t<summary style=display:list-item;cursor:pointer>\n",
       "\t\t<strong>Levels</strong>:\n",
       "\t</summary>\n",
       "\t<ol class=list-inline>\n",
       "\t\t<li>'Northeast'</li>\n",
       "\t\t<li>'South'</li>\n",
       "\t\t<li>'North Central'</li>\n",
       "\t\t<li>'West'</li>\n",
       "\t</ol>\n",
       "</details>"
      ],
      "text/latex": [
       "\\begin{enumerate*}\n",
       "\\item South\n",
       "\\item West\n",
       "\\item West\n",
       "\\item South\n",
       "\\item West\n",
       "\\end{enumerate*}\n",
       "\n",
       "\\emph{Levels}: \\begin{enumerate*}\n",
       "\\item 'Northeast'\n",
       "\\item 'South'\n",
       "\\item 'North Central'\n",
       "\\item 'West'\n",
       "\\end{enumerate*}\n"
      ],
      "text/markdown": [
       "1. South\n",
       "2. West\n",
       "3. West\n",
       "4. South\n",
       "5. West\n",
       "\n",
       "\n",
       "\n",
       "**Levels**: 1. 'Northeast'\n",
       "2. 'South'\n",
       "3. 'North Central'\n",
       "4. 'West'\n",
       "\n",
       "\n"
      ],
      "text/plain": [
       "[1] South West  West  South West \n",
       "Levels: Northeast South North Central West"
      ]
     },
     "metadata": {},
     "output_type": "display_data"
    }
   ],
   "source": [
    "state.region[1:5]"
   ]
  },
  {
   "cell_type": "code",
   "execution_count": 65,
   "metadata": {},
   "outputs": [
    {
     "name": "stdout",
     "output_type": "stream",
     "text": [
      " Factor w/ 9 levels \"New England\",..: 4 9 8 5 9 8 1 3 3 3 ...\n"
     ]
    }
   ],
   "source": [
    "str(state.division)"
   ]
  },
  {
   "cell_type": "markdown",
   "metadata": {},
   "source": [
    "#### Frequency distribution"
   ]
  },
  {
   "cell_type": "code",
   "execution_count": 68,
   "metadata": {},
   "outputs": [],
   "source": [
    "a = table(state.division)"
   ]
  },
  {
   "cell_type": "code",
   "execution_count": 69,
   "metadata": {},
   "outputs": [
    {
     "data": {
      "text/plain": [
       "state.division\n",
       "       New England    Middle Atlantic     South Atlantic East South Central \n",
       "                 6                  3                  8                  4 \n",
       "West South Central East North Central West North Central           Mountain \n",
       "                 4                  5                  7                  8 \n",
       "           Pacific \n",
       "                 5 "
      ]
     },
     "metadata": {},
     "output_type": "display_data"
    }
   ],
   "source": [
    "a"
   ]
  },
  {
   "cell_type": "code",
   "execution_count": 70,
   "metadata": {},
   "outputs": [
    {
     "data": {
      "text/plain": [
       "state.division\n",
       "       New England    Middle Atlantic     South Atlantic East South Central \n",
       "              0.12               0.06               0.16               0.08 \n",
       "West South Central East North Central West North Central           Mountain \n",
       "              0.08               0.10               0.14               0.16 \n",
       "           Pacific \n",
       "              0.10 "
      ]
     },
     "metadata": {},
     "output_type": "display_data"
    }
   ],
   "source": [
    "# relative freq\n",
    "a/sum(a)"
   ]
  },
  {
   "cell_type": "code",
   "execution_count": 71,
   "metadata": {},
   "outputs": [
    {
     "data": {
      "text/plain": [
       "state.division\n",
       "       New England    Middle Atlantic     South Atlantic East South Central \n",
       "              0.12               0.06               0.16               0.08 \n",
       "West South Central East North Central West North Central           Mountain \n",
       "              0.08               0.10               0.14               0.16 \n",
       "           Pacific \n",
       "              0.10 "
      ]
     },
     "metadata": {},
     "output_type": "display_data"
    }
   ],
   "source": [
    "# another way of relative frequency\n",
    "prop.table(a)"
   ]
  },
  {
   "cell_type": "markdown",
   "metadata": {},
   "source": [
    "### Barplot"
   ]
  },
  {
   "cell_type": "code",
   "execution_count": 72,
   "metadata": {},
   "outputs": [
    {
     "data": {
      "image/png": "[encoded data removed]",
      "text/plain": [
       "plot without title"
      ]
     },
     "metadata": {},
     "output_type": "display_data"
    },
    {
     "data": {
      "image/png": "[encoded data removed]",
      "text/plain": [
       "plot without title"
      ]
     },
     "metadata": {},
     "output_type": "display_data"
    }
   ],
   "source": [
    "barplot(table(state.region), cex.names = 0.5)\n",
    "barplot(prop.table(table(state.region)), cex.names = 0.5)"
   ]
  },
  {
   "cell_type": "code",
   "execution_count": 74,
   "metadata": {},
   "outputs": [
    {
     "name": "stdout",
     "output_type": "stream",
     "text": [
      "package 'qcc' successfully unpacked and MD5 sums checked\n",
      "\n",
      "The downloaded binary packages are in\n",
      "\tC:\\Users\\Shraddha\\AppData\\Local\\Temp\\RtmpQtqZWO\\downloaded_packages\n"
     ]
    }
   ],
   "source": [
    "install.packages('qcc')"
   ]
  },
  {
   "cell_type": "markdown",
   "metadata": {},
   "source": [
    "### Pareto Diagrams"
   ]
  },
  {
   "cell_type": "code",
   "execution_count": 75,
   "metadata": {},
   "outputs": [
    {
     "name": "stderr",
     "output_type": "stream",
     "text": [
      "Warning message:\n",
      "\"package 'qcc' was built under R version 3.6.3\"Package 'qcc' version 2.7\n",
      "Type 'citation(\"qcc\")' for citing this R package in publications.\n"
     ]
    },
    {
     "data": {
      "text/plain": [
       "                    \n",
       "Pareto chart analysis for table(state.division)\n",
       "                     Frequency Cum.Freq. Percentage Cum.Percent.\n",
       "  South Atlantic             8         8         16           16\n",
       "  Mountain                   8        16         16           32\n",
       "  West North Central         7        23         14           46\n",
       "  New England                6        29         12           58\n",
       "  East North Central         5        34         10           68\n",
       "  Pacific                    5        39         10           78\n",
       "  East South Central         4        43          8           86\n",
       "  West South Central         4        47          8           94\n",
       "  Middle Atlantic            3        50          6          100"
      ]
     },
     "metadata": {},
     "output_type": "display_data"
    },
    {
     "data": {
      "image/png": "[encoded data removed]",
      "text/plain": [
       "plot without title"
      ]
     },
     "metadata": {},
     "output_type": "display_data"
    }
   ],
   "source": [
    "library(qcc)\n",
    "pareto.chart(table(state.division), ylab = \"Frequency\")"
   ]
  },
  {
   "cell_type": "markdown",
   "metadata": {},
   "source": [
    "#### Dot plot"
   ]
  },
  {
   "cell_type": "code",
   "execution_count": 77,
   "metadata": {},
   "outputs": [
    {
     "data": {
      "image/png": "[encoded data removed]",
      "text/plain": [
       "plot without title"
      ]
     },
     "metadata": {},
     "output_type": "display_data"
    }
   ],
   "source": [
    "curve(x*x)"
   ]
  },
  {
   "cell_type": "code",
   "execution_count": 78,
   "metadata": {},
   "outputs": [],
   "source": [
    "?curve"
   ]
  },
  {
   "cell_type": "code",
   "execution_count": null,
   "metadata": {},
   "outputs": [],
   "source": []
  },
  {
   "cell_type": "code",
   "execution_count": null,
   "metadata": {},
   "outputs": [],
   "source": []
  },
  {
   "cell_type": "code",
   "execution_count": null,
   "metadata": {},
   "outputs": [],
   "source": []
  },
  {
   "cell_type": "code",
   "execution_count": null,
   "metadata": {},
   "outputs": [],
   "source": []
  },
  {
   "cell_type": "code",
   "execution_count": null,
   "metadata": {},
   "outputs": [],
   "source": []
  },
  {
   "cell_type": "code",
   "execution_count": null,
   "metadata": {},
   "outputs": [],
   "source": []
  }
 ],
 "metadata": {
  "kernelspec": {
   "display_name": "R",
   "language": "R",
   "name": "ir"
  },
  "language_info": {
   "codemirror_mode": "r",
   "file_extension": ".r",
   "mimetype": "text/x-r-source",
   "name": "R",
   "pygments_lexer": "r",
   "version": "3.6.1"
  }
 },
 "nbformat": 4,
 "nbformat_minor": 4
}
